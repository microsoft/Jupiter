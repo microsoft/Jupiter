{
 "cells": [
  {
   "cell_type": "code",
   "execution_count": null,
   "id": "562682b6",
   "metadata": {},
   "outputs": [],
   "source": [
    "output_path = \"./inference_ouput\"\n",
    "\n",
    "import os\n",
    "\n",
    "if not os.path.exists(output_path):\n",
    "    os.makedirs(output_path)"
   ]
  },
  {
   "cell_type": "code",
   "execution_count": null,
   "id": "c433604d",
   "metadata": {},
   "outputs": [],
   "source": [
    "# 遍历打开 mcts_output 目录下的所有 json 文件\n",
    "import json\n",
    "\n",
    "def process_json_file(file_path):\n",
    "    with open(file_path, 'r') as file:\n",
    "        data = json.load(file)\n",
    "\n",
    "    return data\n",
    "\n",
    "iteration_consider = 40\n",
    "\n",
    "for filename in os.listdir('./mcts_output'):\n",
    "    if filename.endswith('.json'):\n",
    "        result_dict = {}\n",
    "\n",
    "        file_path = os.path.join('./mcts_output', filename)\n",
    "        data = process_json_file(file_path)\n",
    "\n",
    "        # 选择 data['all_candidates']['final_answer'] 中出现频率最高的作为答案\n",
    "        from collections import Counter\n",
    "        \n",
    "        final_answers = []\n",
    "        for candidate in data['all_candidates']:\n",
    "            if 'found_in_round' in candidate:\n",
    "                if candidate['found_in_round'] < iteration_consider:\n",
    "                    final_answers.append(candidate['final_answer'])\n",
    "            else:\n",
    "                final_answers.append(candidate['final_answer'])\n",
    "\n",
    "        answer_counter = Counter(final_answers)\n",
    "        if not answer_counter:\n",
    "            print(f\"No valid answers found in {filename}. Skipping.\")\n",
    "            continue\n",
    "        most_common_answer, _ = answer_counter.most_common(1)[0]\n",
    "        print(f\"Most common answer in {filename}: {most_common_answer}\")\n",
    "\n",
    "        result_dict['formatted_answer'] = most_common_answer\n",
    "        #result_dict['task'] = data['task']\n",
    "\n",
    "        # 将 result_dict 写入 output_path 目录下的 json 文件，文件名为原文件名替换 _candidates.json 为 .json\n",
    "        output_filename = filename.replace('_candidates.json', '.json')\n",
    "        output_file_path = os.path.join(output_path, output_filename)\n",
    "        with open(output_file_path, 'w') as output_file:\n",
    "            json.dump(result_dict, output_file, indent=4)"
   ]
  }
 ],
 "metadata": {
  "kernelspec": {
   "display_name": "eval",
   "language": "python",
   "name": "python3"
  },
  "language_info": {
   "codemirror_mode": {
    "name": "ipython",
    "version": 3
   },
   "file_extension": ".py",
   "mimetype": "text/x-python",
   "name": "python",
   "nbconvert_exporter": "python",
   "pygments_lexer": "ipython3",
   "version": "3.10.18"
  }
 },
 "nbformat": 4,
 "nbformat_minor": 5
}
